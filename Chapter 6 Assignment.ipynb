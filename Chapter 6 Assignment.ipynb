{
 "cells": [
  {
   "cell_type": "markdown",
   "id": "6aaecd6a",
   "metadata": {},
   "source": [
    "# Chapter 6 Assignment- Decision Tree"
   ]
  },
  {
   "cell_type": "code",
   "execution_count": 4,
   "id": "136fcad4",
   "metadata": {},
   "outputs": [],
   "source": [
    "import sys\n",
    "assert sys.version_info >= (3, 5)\n",
    "\n",
    "# Scikit-Learn ≥0.20 is required\n",
    "import sklearn\n",
    "assert sklearn.__version__ >= \"0.20\"\n",
    "\n",
    "# Common imports\n",
    "import numpy as np\n",
    "import os\n",
    "\n",
    "# to make this notebook's output stable across runs\n",
    "np.random.seed(42)\n",
    "\n",
    "# To plot pretty figures\n",
    "%matplotlib inline\n",
    "import matplotlib as mpl\n",
    "import matplotlib.pyplot as plt\n",
    "mpl.rc('axes', labelsize=14)\n",
    "mpl.rc('xtick', labelsize=12)\n",
    "mpl.rc('ytick', labelsize=12)\n",
    "\n",
    "# Where to save the figures\n",
    "PROJECT_ROOT_DIR = \".\"\n",
    "CHAPTER_ID = \"decision_trees\"\n",
    "IMAGES_PATH = os.path.join(PROJECT_ROOT_DIR, \"images\", CHAPTER_ID)\n",
    "os.makedirs(IMAGES_PATH, exist_ok=True)\n",
    "\n",
    "def save_fig(fig_id, tight_layout=True, fig_extension=\"png\", resolution=300):\n",
    "    path = os.path.join(IMAGES_PATH, fig_id + \".\" + fig_extension)\n",
    "    print(\"Saving figure\", fig_id)\n",
    "    if tight_layout:\n",
    "        plt.tight_layout()\n",
    "    plt.savefig(path, format=fig_extension, dpi=resolution)"
   ]
  },
  {
   "attachments": {
    "image.png": {
     "image/png": "[encoded data removed]"
    }
   },
   "cell_type": "markdown",
   "id": "c97f8158",
   "metadata": {},
   "source": [
    "# 1. What is the approximate depth of a Decision Tree trained (without restrictions) on a training set with one million instances? \n",
    "\n",
    "The depth of a decision tree is determined by  O(log2(m)), there for the approximate depth of a decision tree model trained on a training set with one million instances is \n",
    "![image.png](attachment:image.png)\n",
    "\n",
    "Approximately 20 ( a bit more since the tree will generally not be perfectly well balanced)."
   ]
  },
  {
   "cell_type": "markdown",
   "id": "7b095c8d",
   "metadata": {},
   "source": [
    "# 2. Is a node’s Gini impurity generally lower or greater than its parent’s? Is it gener‐ ally lower/greater, or always lower/greater? \n",
    "\n",
    "The node's Gini impurity is generally lower that the parents and this is because of the CART training algorithm's cost function. It mimimizes the Gini impurity of the node by splitting each parent node thereby decreasing the weighted sum of the nodes impurities.\n"
   ]
  },
  {
   "cell_type": "markdown",
   "id": "ec833c52",
   "metadata": {},
   "source": [
    "# 3. If a Decision Tree is overfitting the training set, is it a good idea to try decreasing max_depth? \n",
    "\n",
    "To avoid overfitting the training data, you need to restrict the Decision Tree’s freedom during training this is called regularization. \n",
    "\n",
    "###### Hence, reducing max_depth will regularize the model and thus reduce the risk of overfitting\n"
   ]
  },
  {
   "cell_type": "markdown",
   "id": "f9913127",
   "metadata": {},
   "source": [
    "# 4. If a Decision Tree is underfitting the training set, is it a good idea to try scaling the input features? \n",
    "\n",
    "One of the many qualities of Decision Trees is that they require\n",
    "very little data preparation. In fact, they don’t require feature scal‐\n",
    "ing or centering at all.\n",
    "\n",
    "So scaling would be a waste of time, if it is underfitting, increase the hyperparameters\n"
   ]
  },
  {
   "cell_type": "markdown",
   "id": "53f207b5",
   "metadata": {},
   "source": [
    "# 5. If it takes one hour to train a Decision Tree on a training set containing 1 million instances, roughly how much time will it take to train another Decision Tree on a training set containing 10 million instances? \n",
    "\n",
    "The computational complexity of training a Decision Tree is O(n × m log(m)). So if  the training set is multiplied by 10, then the  training time will be multiplied by K. To determine the value of K, divide the complexity of both\n",
    "\n",
    "K = (n × 10m × log(10m)) / (n × m × log(m)) = 10 × log(10m) / log(m). \n",
    "for 10 million instances i.e., m = 10^6, \n",
    "\n",
    "##### then K ≈ 11.7, so you can expect the training time to be roughly 11.7 hours."
   ]
  },
  {
   "cell_type": "markdown",
   "id": "a4999ed0",
   "metadata": {},
   "source": [
    "# 6. If your training set contains 100,000 instances, will setting presort=True speed up training? \n",
    "\n",
    "When training with less than a few thousand (3,000 instances), presorting can speed up training  (set presort=True), \n",
    "\n",
    "##### but if the training instances are large, presorting would slow down training considerably "
   ]
  },
  {
   "cell_type": "markdown",
   "id": "77ce6245",
   "metadata": {},
   "source": [
    "# 7. Exercise: train and fine-tune a Decision Tree for the moons dataset.\n",
    "\n",
    "#### a. Generate a moons dataset using make_moons(n_samples=10000, noise=0.4)."
   ]
  },
  {
   "cell_type": "code",
   "execution_count": 1,
   "id": "e072ca19",
   "metadata": {},
   "outputs": [],
   "source": [
    "from sklearn.datasets import make_moons\n",
    "\n",
    "X, y = make_moons(n_samples=10000, noise=0.4, random_state=42)"
   ]
  },
  {
   "cell_type": "markdown",
   "id": "3df0148d",
   "metadata": {},
   "source": [
    "#### b. Split it into a training set and a test set using train_test_split()."
   ]
  },
  {
   "cell_type": "code",
   "execution_count": 2,
   "id": "cc799c58",
   "metadata": {},
   "outputs": [],
   "source": [
    "from sklearn.model_selection import train_test_split\n",
    "\n",
    "X_train, X_test, y_train, y_test = train_test_split(X, y, test_size=0.2, random_state=42)"
   ]
  },
  {
   "cell_type": "markdown",
   "id": "fdde6567",
   "metadata": {},
   "source": [
    "###### c. Use grid search with cross-validation (with the help of the GridSearchCV class) to find good hyperparameter values for a DecisionTreeClassifier. Hint: try various values for max_leaf_nodes."
   ]
  },
  {
   "cell_type": "code",
   "execution_count": 8,
   "id": "36d482f6",
   "metadata": {},
   "outputs": [
    {
     "name": "stdout",
     "output_type": "stream",
     "text": [
      "Fitting 3 folds for each of 294 candidates, totalling 882 fits\n"
     ]
    },
    {
     "data": {
      "text/plain": [
       "GridSearchCV(cv=3, estimator=DecisionTreeClassifier(random_state=42),\n",
       "             param_grid={'max_leaf_nodes': [2, 3, 4, 5, 6, 7, 8, 9, 10, 11, 12,\n",
       "                                            13, 14, 15, 16, 17, 18, 19, 20, 21,\n",
       "                                            22, 23, 24, 25, 26, 27, 28, 29, 30,\n",
       "                                            31, ...],\n",
       "                         'min_samples_split': [2, 3, 4]},\n",
       "             verbose=1)"
      ]
     },
     "execution_count": 8,
     "metadata": {},
     "output_type": "execute_result"
    }
   ],
   "source": [
    "from sklearn.model_selection import GridSearchCV\n",
    "from sklearn.tree import DecisionTreeClassifier\n",
    "\n",
    "params = {'max_leaf_nodes': list(range(2, 100)), 'min_samples_split': [2, 3, 4]}\n",
    "grid_search_cv = GridSearchCV(DecisionTreeClassifier(random_state=42), params, verbose=1, cv=3)\n",
    "\n",
    "grid_search_cv.fit(X_train, y_train)\n"
   ]
  },
  {
   "cell_type": "markdown",
   "id": "10dd2424",
   "metadata": {},
   "source": [
    "\n",
    "##### d. Train it on the full training set using these hyperparameters, and measure your model's performance on the test set. You should get roughly 85% to 87% accuracy.\n"
   ]
  },
  {
   "cell_type": "code",
   "execution_count": 9,
   "id": "9fc74078",
   "metadata": {},
   "outputs": [
    {
     "data": {
      "text/plain": [
       "0.8695"
      ]
     },
     "execution_count": 9,
     "metadata": {},
     "output_type": "execute_result"
    }
   ],
   "source": [
    "from sklearn.metrics import accuracy_score\n",
    "\n",
    "y_pred = grid_search_cv.predict(X_test)\n",
    "accuracy_score(y_test, y_pred)"
   ]
  },
  {
   "cell_type": "markdown",
   "id": "4d444ab5",
   "metadata": {},
   "source": [
    "## 8. Exercise: Grow a forest.\n",
    "\n",
    "##### a. Continuing the previous exercise, generate 1,000 subsets of the training set, each containing 100 instances selected randomly. Hint: you can use Scikit-Learn's ShuffleSplit class for this."
   ]
  },
  {
   "cell_type": "code",
   "execution_count": 10,
   "id": "cb76935b",
   "metadata": {},
   "outputs": [],
   "source": [
    "from sklearn.model_selection import ShuffleSplit\n",
    "\n",
    "n_trees = 1000\n",
    "n_instances = 100\n",
    "\n",
    "mini_sets = []\n",
    "\n",
    "rs = ShuffleSplit(n_splits=n_trees, test_size=len(X_train) - n_instances, random_state=42)\n",
    "for mini_train_index, mini_test_index in rs.split(X_train):\n",
    "    X_mini_train = X_train[mini_train_index]\n",
    "    y_mini_train = y_train[mini_train_index]\n",
    "    mini_sets.append((X_mini_train, y_mini_train))"
   ]
  },
  {
   "cell_type": "markdown",
   "id": "b3419035",
   "metadata": {},
   "source": [
    "##### b. Train one Decision Tree on each subset, using the best hyperparameter values found above. Evaluate these 1,000 Decision Trees on the test set. Since they were trained on smaller sets, these Decision Trees will likely perform worse than the first Decision Tree, achieving only about 80% accuracy."
   ]
  },
  {
   "cell_type": "code",
   "execution_count": 11,
   "id": "f9db8467",
   "metadata": {},
   "outputs": [
    {
     "data": {
      "text/plain": [
       "0.8054499999999999"
      ]
     },
     "execution_count": 11,
     "metadata": {},
     "output_type": "execute_result"
    }
   ],
   "source": [
    "from sklearn.base import clone\n",
    "\n",
    "forest = [clone(grid_search_cv.best_estimator_) for _ in range(n_trees)]\n",
    "\n",
    "accuracy_scores = []\n",
    "\n",
    "for tree, (X_mini_train, y_mini_train) in zip(forest, mini_sets):\n",
    "    tree.fit(X_mini_train, y_mini_train)\n",
    "    \n",
    "    y_pred = tree.predict(X_test)\n",
    "    accuracy_scores.append(accuracy_score(y_test, y_pred))\n",
    "\n",
    "np.mean(accuracy_scores)"
   ]
  },
  {
   "cell_type": "markdown",
   "id": "e46f257d",
   "metadata": {},
   "source": [
    "#### c. Now comes the magic. For each test set instance, generate the predictions of the 1,000 Decision Trees, and keep only the most frequent prediction (you can use SciPy's mode() function for this). This gives you majority-vote predictions over the test set."
   ]
  },
  {
   "cell_type": "code",
   "execution_count": 12,
   "id": "3620131c",
   "metadata": {},
   "outputs": [],
   "source": [
    "Y_pred = np.empty([n_trees, len(X_test)], dtype=np.uint8)\n",
    "\n",
    "for tree_index, tree in enumerate(forest):\n",
    "    Y_pred[tree_index] = tree.predict(X_test)"
   ]
  },
  {
   "cell_type": "code",
   "execution_count": 13,
   "id": "2001f0f7",
   "metadata": {},
   "outputs": [],
   "source": [
    "from scipy.stats import mode\n",
    "\n",
    "y_pred_majority_votes, n_votes = mode(Y_pred, axis=0)"
   ]
  },
  {
   "cell_type": "markdown",
   "id": "67f7f252",
   "metadata": {},
   "source": [
    "##### d. Evaluate these predictions on the test set: you should obtain a slightly higher accuracy than your first model (about 0.5 to 1.5% higher). Congratulations, you have trained a Random Forest classifier!"
   ]
  },
  {
   "cell_type": "code",
   "execution_count": 15,
   "id": "cc107d48",
   "metadata": {},
   "outputs": [
    {
     "data": {
      "text/plain": [
       "0.872"
      ]
     },
     "execution_count": 15,
     "metadata": {},
     "output_type": "execute_result"
    }
   ],
   "source": [
    "accuracy_score(y_test, y_pred_majority_votes.reshape([-1]))"
   ]
  },
  {
   "cell_type": "code",
   "execution_count": null,
   "id": "793e5d5c",
   "metadata": {},
   "outputs": [],
   "source": []
  }
 ],
 "metadata": {
  "kernelspec": {
   "display_name": "Python 3",
   "language": "python",
   "name": "python3"
  },
  "language_info": {
   "codemirror_mode": {
    "name": "ipython",
    "version": 3
   },
   "file_extension": ".py",
   "mimetype": "text/x-python",
   "name": "python",
   "nbconvert_exporter": "python",
   "pygments_lexer": "ipython3",
   "version": "3.8.8"
  }
 },
 "nbformat": 4,
 "nbformat_minor": 5
}
